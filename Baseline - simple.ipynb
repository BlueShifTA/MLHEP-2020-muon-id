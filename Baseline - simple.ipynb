{
 "cells": [
  {
   "cell_type": "markdown",
   "metadata": {
    "collapsed": false
   },
   "source": [
    "## Coopetition - Muon id classification \n",
    "\n",
    "S. Ek-In, C. Praz"
   ]
  },
  {
   "cell_type": "markdown",
   "metadata": {
    "collapsed": false
   },
   "source": [
    "### Import part \n"
   ]
  },
  {
   "cell_type": "code",
   "execution_count": 1,
   "metadata": {
    "collapsed": false
   },
   "outputs": [
   ],
   "source": [
    "import os\n",
    "import pandas as pd\n",
    "import xgboost\n",
    "import utils\n",
    "import scoring\n",
    "from sklearn.model_selection import train_test_split\n",
    "import numpy as np\n",
    "import matplotlib.pyplot as plt\n",
    "\n",
    "%matplotlib inline"
   ]
  },
  {
   "cell_type": "markdown",
   "metadata": {
    "collapsed": false
   },
   "source": [
    "### Download dataset"
   ]
  },
  {
   "cell_type": "code",
   "execution_count": 0,
   "metadata": {
    "collapsed": false
   },
   "outputs": [
   ],
   "source": [
    "# The datasets are available in CoCalc in ~/share/data/I-coopetition-muon-id/\n",
    "# Test\n",
    "# ! wget --content-disposition https://codalab.coresearch.club/my/datasets/download/dd6255a1-a14b-4276-9a2b-db7f360e01c7\n",
    "# Train\n",
    "# ! wget --content-disposition https://codalab.coresearch.club/my/datasets/download/3a5e940c-2382-4716-9ff7-8fbc269b98ac"
   ]
  },
  {
   "cell_type": "markdown",
   "metadata": {
    "collapsed": false
   },
   "source": [
    "### Step 1 Load Data"
   ]
  },
  {
   "cell_type": "code",
   "execution_count": 2,
   "metadata": {
    "collapsed": false
   },
   "outputs": [
    {
     "name": "stderr",
     "output_type": "stream",
     "text": [
      "/home/user/.local/lib/python3.6/site-packages/numpy/lib/arraysetops.py:580: FutureWarning: elementwise comparison failed; returning scalar instead, but in the future will perform elementwise comparison\n",
      "  mask |= (ar1 == a)\n"
     ]
    }
   ],
   "source": [
    "DATA_PATH = \"~/share/data/I-coopetition-muon-id/\"\n",
    "columns = utils.SIMPLE_FEATURE_COLUMNS + [\"id\", \"label\", \"weight\", \"sWeight\", \"kinWeight\"] \n",
    "train = pd.read_csv(os.path.join(DATA_PATH, \"train.csv.gz\"), index_col=\"id\", usecols=columns)\n"
   ]
  },
  {
   "cell_type": "markdown",
   "metadata": {
    "collapsed": false
   },
   "source": [
    "### Step 2 Data Preprocessing "
   ]
  },
  {
   "cell_type": "code",
   "execution_count": 0,
   "metadata": {
    "collapsed": false
   },
   "outputs": [
   ],
   "source": [
    "# Main Setting \n",
    "\n",
    "weight_name = \"weight\"\n",
    "num_sample = 10\n",
    "train_vis = train.head(num_sample)"
   ]
  },
  {
   "cell_type": "code",
   "execution_count": 3,
   "metadata": {
    "collapsed": false
   },
   "outputs": [
   ],
   "source": [
    "'''\n",
    "    Utils functions\n",
    "'''\n",
    "\n",
    "#classes = [0, 1]\n",
    "#columns = ['P', 'PT','ncl[0]', 'avg_cs[0]', 'ndof', 'MatchedHit_TYPE[0]', 'MatchedHit_TYPE[1]', 'MatchedHit_TYPE[2]']\n",
    "\n",
    "\n",
    "def visualize(feature, target, weights, num_bins=100):\n",
    "    classes = np.unique(target)\n",
    "    bins = np.linspace(feature.min(), feature.max(), num_bins + 1)\n",
    "    \n",
    "    # Plot all class \n",
    "    for c in classes:\n",
    "        selection = (target == c)\n",
    "        plt.hist(feature[selection], bins = bins, label = c, alpha = 0.5, weights = weights[selection])\n",
    "    plt.legend()\n",
    "\n",
    "def score(model, data, used_features):    \n",
    "    predictions = model.predict_proba(data.loc[:, used_features].values)[:, 1]\n",
    "    score = scoring.rejection90(data.label.values, predictions, sample_weight=data.weight.values)\n",
    "    return score"
   ]
  },
  {
   "cell_type": "code",
   "execution_count": 0,
   "metadata": {
    "collapsed": false
   },
   "outputs": [
   ],
   "source": [
    "# Looking for high level parameters \n",
    "\n",
    "# WIP\n",
    "\n",
    "print(np.array(train_vis['FOI_hits_S']))\n",
    "'''\n",
    "for index, row in train_vis.iterrows():\n",
    "    print(row[\"FOI_hits_S\" == 0] )\n",
    "    closest_hits = utils.find_closest_hit_per_station(row)\n",
    "    print(closest_hits)\n",
    "'''\n",
    "\n"
   ]
  },
  {
   "cell_type": "code",
   "execution_count": 0,
   "metadata": {
    "collapsed": false
   },
   "outputs": [
   ],
   "source": [
    "# Visualisation \n",
    "\n",
    "for column in columns:\n",
    "    plt.figure()\n",
    "    visualize(train[column][:num_sample], train['label'][:num_sample], train[weight_name][:num_sample])\n",
    "    plt.title(column)\n"
   ]
  },
  {
   "cell_type": "code",
   "execution_count": 4,
   "metadata": {
    "collapsed": false
   },
   "outputs": [
   ],
   "source": [
    "# Def used columns \n",
    "train_cols = utils.SIMPLE_FEATURE_COLUMNS"
   ]
  },
  {
   "cell_type": "code",
   "execution_count": 0,
   "metadata": {
    "collapsed": false
   },
   "outputs": [
   ],
   "source": [
   ]
  },
  {
   "cell_type": "code",
   "execution_count": 5,
   "metadata": {
    "collapsed": false
   },
   "outputs": [
    {
     "data": {
      "text/plain": [
       "'\\nscaler = StandardScaler()\\nscaled_train = scaler.fit_transform(train_part)\\nscaled_valid = \\n'"
      ]
     },
     "execution_count": 5,
     "metadata": {
     },
     "output_type": "execute_result"
    }
   ],
   "source": [
    "# Check Heading data\n",
    "train.head()\n",
    "\n",
    "\n",
    "# Splitting \n",
    "train_part, validation = train_test_split(train, test_size=0.25, shuffle=True, random_state=2342234)\n",
    "\n",
    "\n",
    "# Scale \n",
    "from sklearn.preprocessing import StandardScaler\n",
    "\n",
    "'''\n",
    "scaler = StandardScaler()\n",
    "scaled_train = scaler.fit_transform(train_part)\n",
    "scaled_valid = \n",
    "'''"
   ]
  },
  {
   "cell_type": "markdown",
   "metadata": {
    "collapsed": false
   },
   "source": [
    "### Step 3 Training part "
   ]
  },
  {
   "cell_type": "code",
   "execution_count": 8,
   "metadata": {
    "collapsed": false
   },
   "outputs": [
   ],
   "source": [
    "# Model Arch\n",
    "n_trees = 100\n",
    "model = xgboost.XGBClassifier(n_estimators = n_trees, nthread=-1, learning_rate = 0.1)\n"
   ]
  },
  {
   "cell_type": "code",
   "execution_count": 10,
   "metadata": {
    "collapsed": false
   },
   "outputs": [
    {
     "name": "stdout",
     "output_type": "stream",
     "text": [
      "Defaulting to user installation because normal site-packages is not writeable\r\n"
     ]
    },
    {
     "name": "stdout",
     "output_type": "stream",
     "text": [
      "Collecting hep_ml\r\n"
     ]
    },
    {
     "name": "stdout",
     "output_type": "stream",
     "text": [
      "  Downloading hep_ml-0.6.1-py2.py3-none-any.whl (54 kB)\r\n",
      "\u001b[?25l\r\u001b[K     |██████                          | 10 kB 31.0 MB/s eta 0:00:01\r\u001b[K     |████████████                    | 20 kB 2.4 MB/s eta 0:00:01\r\u001b[K     |██████████████████              | 30 kB 3.3 MB/s eta 0:00:01\r\u001b[K     |████████████████████████        | 40 kB 2.5 MB/s eta 0:00:01\r\u001b[K     |██████████████████████████████  | 51 kB 2.9 MB/s eta 0:00:01\r\u001b[K     |████████████████████████████████| 54 kB 1.8 MB/s \r\n"
     ]
    },
    {
     "name": "stdout",
     "output_type": "stream",
     "text": [
      "\u001b[?25hRequirement already satisfied: scikit-learn>=0.19 in /home/user/.local/lib/python3.6/site-packages (from hep_ml) (0.23.1)\r\n"
     ]
    },
    {
     "name": "stdout",
     "output_type": "stream",
     "text": [
      "Collecting theano>=1.0.2\r\n"
     ]
    },
    {
     "name": "stdout",
     "output_type": "stream",
     "text": [
      "  Downloading Theano-1.0.4.tar.gz (2.8 MB)\r\n",
      "\u001b[?25l\r\u001b[K     |▏                               | 10 kB 2.5 MB/s eta 0:00:02\r\u001b[K     |▎                               | 20 kB 4.7 MB/s eta 0:00:01\r\u001b[K     |▍                               | 30 kB 6.2 MB/s eta 0:00:01\r\u001b[K     |▌                               | 40 kB 6.9 MB/s eta 0:00:01\r\u001b[K     |▋                               | 51 kB 7.5 MB/s eta 0:00:01\r\u001b[K     |▊                               | 61 kB 4.9 MB/s eta 0:00:01\r\u001b[K     |▉                               | 71 kB 5.6 MB/s eta 0:00:01\r\u001b[K     |█                               | 81 kB 6.4 MB/s eta 0:00:01\r\u001b[K     |█                               | 92 kB 6.8 MB/s eta 0:00:01\r\u001b[K     |█▏                              | 102 kB 7.5 MB/s eta 0:00:01\r\u001b[K     |█▎                              | 112 kB 7.5 MB/s eta 0:00:01\r\u001b[K     |█▍                              | 122 kB 7.5 MB/s eta 0:00:01\r\u001b[K     |█▌                              | 133 kB 7.5 MB/s eta 0:00:01\r\u001b[K     |█▋                              | 143 kB 7.5 MB/s eta 0:00:01\r\u001b[K     |█▊                              | 153 kB 7.5 MB/s eta 0:00:01\r\u001b[K     |█▉                              | 163 kB 7.5 MB/s eta 0:00:01\r\u001b[K     |██                              | 174 kB 7.5 MB/s eta 0:00:01\r\u001b[K     |██                              | 184 kB 7.5 MB/s eta 0:00:01\r\u001b[K     |██▏                             | 194 kB 7.5 MB/s eta 0:00:01\r\u001b[K     |██▎                             | 204 kB 7.5 MB/s eta 0:00:01\r\u001b[K     |██▍                             | 215 kB 7.5 MB/s eta 0:00:01\r\u001b[K     |██▌                             | 225 kB 7.5 MB/s eta 0:00:01\r\u001b[K     |██▋                             | 235 kB 7.5 MB/s eta 0:00:01\r\u001b[K     |██▊                             | 245 kB 7.5 MB/s eta 0:00:01\r\u001b[K     |██▉                             | 256 kB 7.5 MB/s eta 0:00:01\r\u001b[K     |███                             | 266 kB 7.5 MB/s eta 0:00:01\r\u001b[K     |███▏                            | 276 kB 7.5 MB/s eta 0:00:01\r\u001b[K     |███▎                            | 286 kB 7.5 MB/s eta 0:00:01\r\u001b[K     |███▍                            | 296 kB 7.5 MB/s eta 0:00:01\r\u001b[K     |███▌                            | 307 kB 7.5 MB/s eta 0:00:01\r\u001b[K     |███▋                            | 317 kB 7.5 MB/s eta 0:00:01\r\u001b[K     |███▊                            | 327 kB 7.5 MB/s eta 0:00:01\r\u001b[K     |███▉                            | 337 kB 7.5 MB/s eta 0:00:01\r\u001b[K     |████                            | 348 kB 7.5 MB/s eta 0:00:01\r\u001b[K     |████                            | 358 kB 7.5 MB/s eta 0:00:01\r\u001b[K     |████▏                           | 368 kB 7.5 MB/s eta 0:00:01\r\u001b[K     |████▎                           | 378 kB 7.5 MB/s eta 0:00:01\r\u001b[K     |████▍                           | 389 kB 7.5 MB/s eta 0:00:01\r\u001b[K     |████▌                           | 399 kB 7.5 MB/s eta 0:00:01\r\u001b[K     |████▋                           | 409 kB 7.5 MB/s eta 0:00:01\r\u001b[K     |████▊                           | 419 kB 7.5 MB/s eta 0:00:01\r\u001b[K     |████▉                           | 430 kB 7.5 MB/s eta 0:00:01\r\u001b[K     |█████                           | 440 kB 7.5 MB/s eta 0:00:01\r\u001b[K     |█████                           | 450 kB 7.5 MB/s eta 0:00:01\r\u001b[K     |█████▏                          | 460 kB 7.5 MB/s eta 0:00:01\r\u001b[K     |█████▎                          | 471 kB 7.5 MB/s eta 0:00:01\r\u001b[K     |█████▍                          | 481 kB 7.5 MB/s eta 0:00:01\r\u001b[K     |█████▌                          | 491 kB 7.5 MB/s eta 0:00:01\r\u001b[K     |█████▋                          | 501 kB 7.5 MB/s eta 0:00:01\r\u001b[K     |█████▊                          | 512 kB 7.5 MB/s eta 0:00:01\r\u001b[K     |█████▉                          | 522 kB 7.5 MB/s eta 0:00:01\r\u001b[K     |██████                          | 532 kB 7.5 MB/s eta 0:00:01\r\u001b[K     |██████▏                         | 542 kB 7.5 MB/s eta 0:00:01\r\u001b[K     |██████▎                         | 552 kB 7.5 MB/s eta 0:00:01\r\u001b[K     |██████▍                         | 563 kB 7.5 MB/s eta 0:00:01\r\u001b[K     |██████▌                         | 573 kB 7.5 MB/s eta 0:00:01\r\u001b[K     |██████▋                         | 583 kB 7.5 MB/s eta 0:00:01\r\u001b[K     |██████▊                         | 593 kB 7.5 MB/s eta 0:00:01\r\u001b[K     |██████▉                         | 604 kB 7.5 MB/s eta 0:00:01\r\u001b[K     |███████                         | 614 kB 7.5 MB/s eta 0:00:01\r\u001b[K     |███████                         | 624 kB 7.5 MB/s eta 0:00:01\r\u001b[K     |███████▏                        | 634 kB 7.5 MB/s eta 0:00:01\r\u001b[K     |███████▎                        | 645 kB 7.5 MB/s eta 0:00:01\r\u001b[K     |███████▍                        | 655 kB 7.5 MB/s eta 0:00:01\r\u001b[K     |███████▌                        | 665 kB 7.5 MB/s eta 0:00:01\r\u001b[K     |███████▋                        | 675 kB 7.5 MB/s eta 0:00:01\r\u001b[K     |███████▊                        | 686 kB 7.5 MB/s eta 0:00:01\r\u001b[K     |███████▉                        | 696 kB 7.5 MB/s eta 0:00:01\r\u001b[K     |████████                        | 706 kB 7.5 MB/s eta 0:00:01\r\u001b[K     |████████                        | 716 kB 7.5 MB/s eta 0:00:01\r\u001b[K     |████████▏                       | 727 kB 7.5 MB/s eta 0:00:01\r\u001b[K     |████████▎                       | 737 kB 7.5 MB/s eta 0:00:01\r\u001b[K     |████████▍                       | 747 kB 7.5 MB/s eta 0:00:01\r\u001b[K     |████████▌                       | 757 kB 7.5 MB/s eta 0:00:01\r\u001b[K     |████████▋                       | 768 kB 7.5 MB/s eta 0:00:01\r\u001b[K     |████████▊                       | 778 kB 7.5 MB/s eta 0:00:01\r\u001b[K     |████████▉                       | 788 kB 7.5 MB/s eta 0:00:01"
     ]
    },
    {
     "name": "stdout",
     "output_type": "stream",
     "text": [
      "\r\u001b[K     |█████████                       | 798 kB 7.5 MB/s eta 0:00:01\r\u001b[K     |█████████▏                      | 808 kB 7.5 MB/s eta 0:00:01\r\u001b[K     |█████████▎                      | 819 kB 7.5 MB/s eta 0:00:01\r\u001b[K     |█████████▍                      | 829 kB 7.5 MB/s eta 0:00:01\r\u001b[K     |█████████▌                      | 839 kB 7.5 MB/s eta 0:00:01\r\u001b[K     |█████████▋                      | 849 kB 7.5 MB/s eta 0:00:01\r\u001b[K     |█████████▊                      | 860 kB 7.5 MB/s eta 0:00:01\r\u001b[K     |█████████▉                      | 870 kB 7.5 MB/s eta 0:00:01\r\u001b[K     |██████████                      | 880 kB 7.5 MB/s eta 0:00:01\r\u001b[K     |██████████                      | 890 kB 7.5 MB/s eta 0:00:01\r\u001b[K     |██████████▏                     | 901 kB 7.5 MB/s eta 0:00:01\r\u001b[K     |██████████▎                     | 911 kB 7.5 MB/s eta 0:00:01\r\u001b[K     |██████████▍                     | 921 kB 7.5 MB/s eta 0:00:01\r\u001b[K     |██████████▌                     | 931 kB 7.5 MB/s eta 0:00:01\r\u001b[K     |██████████▋                     | 942 kB 7.5 MB/s eta 0:00:01\r\u001b[K     |██████████▊                     | 952 kB 7.5 MB/s eta 0:00:01\r\u001b[K     |██████████▉                     | 962 kB 7.5 MB/s eta 0:00:01\r\u001b[K     |███████████                     | 972 kB 7.5 MB/s eta 0:00:01\r\u001b[K     |███████████                     | 983 kB 7.5 MB/s eta 0:00:01\r\u001b[K     |███████████▏                    | 993 kB 7.5 MB/s eta 0:00:01\r\u001b[K     |███████████▎                    | 1.0 MB 7.5 MB/s eta 0:00:01\r\u001b[K     |███████████▍                    | 1.0 MB 7.5 MB/s eta 0:00:01\r\u001b[K     |███████████▌                    | 1.0 MB 7.5 MB/s eta 0:00:01\r\u001b[K     |███████████▋                    | 1.0 MB 7.5 MB/s eta 0:00:01\r\u001b[K     |███████████▊                    | 1.0 MB 7.5 MB/s eta 0:00:01\r\u001b[K     |███████████▉                    | 1.1 MB 7.5 MB/s eta 0:00:01\r\u001b[K     |████████████                    | 1.1 MB 7.5 MB/s eta 0:00:01\r\u001b[K     |████████████▏                   | 1.1 MB 7.5 MB/s eta 0:00:01\r\u001b[K     |████████████▎                   | 1.1 MB 7.5 MB/s eta 0:00:01\r\u001b[K     |████████████▍                   | 1.1 MB 7.5 MB/s eta 0:00:01\r\u001b[K     |████████████▌                   | 1.1 MB 7.5 MB/s eta 0:00:01\r\u001b[K     |████████████▋                   | 1.1 MB 7.5 MB/s eta 0:00:01\r\u001b[K     |████████████▊                   | 1.1 MB 7.5 MB/s eta 0:00:01\r\u001b[K     |████████████▉                   | 1.1 MB 7.5 MB/s eta 0:00:01\r\u001b[K     |█████████████                   | 1.1 MB 7.5 MB/s eta 0:00:01\r\u001b[K     |█████████████                   | 1.2 MB 7.5 MB/s eta 0:00:01\r\u001b[K     |█████████████▏                  | 1.2 MB 7.5 MB/s eta 0:00:01\r\u001b[K     |█████████████▎                  | 1.2 MB 7.5 MB/s eta 0:00:01\r\u001b[K     |█████████████▍                  | 1.2 MB 7.5 MB/s eta 0:00:01\r\u001b[K     |█████████████▌                  | 1.2 MB 7.5 MB/s eta 0:00:01\r\u001b[K     |█████████████▋                  | 1.2 MB 7.5 MB/s eta 0:00:01\r\u001b[K     |█████████████▊                  | 1.2 MB 7.5 MB/s eta 0:00:01\r\u001b[K     |█████████████▉                  | 1.2 MB 7.5 MB/s eta 0:00:01\r\u001b[K     |██████████████                  | 1.2 MB 7.5 MB/s eta 0:00:01\r\u001b[K     |██████████████                  | 1.2 MB 7.5 MB/s eta 0:00:01\r\u001b[K     |██████████████▏                 | 1.3 MB 7.5 MB/s eta 0:00:01\r\u001b[K     |██████████████▎                 | 1.3 MB 7.5 MB/s eta 0:00:01\r\u001b[K     |██████████████▍                 | 1.3 MB 7.5 MB/s eta 0:00:01\r\u001b[K     |██████████████▌                 | 1.3 MB 7.5 MB/s eta 0:00:01\r\u001b[K     |██████████████▋                 | 1.3 MB 7.5 MB/s eta 0:00:01\r\u001b[K     |██████████████▊                 | 1.3 MB 7.5 MB/s eta 0:00:01\r\u001b[K     |██████████████▉                 | 1.3 MB 7.5 MB/s eta 0:00:01\r\u001b[K     |███████████████                 | 1.3 MB 7.5 MB/s eta 0:00:01\r\u001b[K     |███████████████▏                | 1.3 MB 7.5 MB/s eta 0:00:01\r\u001b[K     |███████████████▎                | 1.4 MB 7.5 MB/s eta 0:00:01\r\u001b[K     |███████████████▍                | 1.4 MB 7.5 MB/s eta 0:00:01\r\u001b[K     |███████████████▌                | 1.4 MB 7.5 MB/s eta 0:00:01\r\u001b[K     |███████████████▋                | 1.4 MB 7.5 MB/s eta 0:00:01\r\u001b[K     |███████████████▊                | 1.4 MB 7.5 MB/s eta 0:00:01\r\u001b[K     |███████████████▉                | 1.4 MB 7.5 MB/s eta 0:00:01\r\u001b[K     |████████████████                | 1.4 MB 7.5 MB/s eta 0:00:01\r\u001b[K     |████████████████                | 1.4 MB 7.5 MB/s eta 0:00:01\r\u001b[K     |████████████████▏               | 1.4 MB 7.5 MB/s eta 0:00:01\r\u001b[K     |████████████████▎               | 1.4 MB 7.5 MB/s eta 0:00:01\r\u001b[K     |████████████████▍               | 1.5 MB 7.5 MB/s eta 0:00:01\r\u001b[K     |████████████████▌               | 1.5 MB 7.5 MB/s eta 0:00:01\r\u001b[K     |████████████████▋               | 1.5 MB 7.5 MB/s eta 0:00:01\r\u001b[K     |████████████████▊               | 1.5 MB 7.5 MB/s eta 0:00:01\r\u001b[K     |████████████████▉               | 1.5 MB 7.5 MB/s eta 0:00:01\r\u001b[K     |█████████████████               | 1.5 MB 7.5 MB/s eta 0:00:01\r\u001b[K     |█████████████████               | 1.5 MB 7.5 MB/s eta 0:00:01\r\u001b[K     |█████████████████▏              | 1.5 MB 7.5 MB/s eta 0:00:01\r\u001b[K     |█████████████████▎              | 1.5 MB 7.5 MB/s eta 0:00:01\r\u001b[K     |█████████████████▍              | 1.5 MB 7.5 MB/s eta 0:00:01\r\u001b[K     |█████████████████▌              | 1.6 MB 7.5 MB/s eta 0:00:01\r\u001b[K     |█████████████████▋              | 1.6 MB 7.5 MB/s eta 0:00:01\r\u001b[K     |█████████████████▊              | 1.6 MB 7.5 MB/s eta 0:00:01\r\u001b[K     |█████████████████▉              | 1.6 MB 7.5 MB/s eta 0:00:01\r\u001b[K     |██████████████████              | 1.6 MB 7.5 MB/s eta 0:00:01\r\u001b[K     |██████████████████              | 1.6 MB 7.5 MB/s eta 0:00:01\r\u001b[K     |██████████████████▎             | 1.6 MB 7.5 MB/s eta 0:00:01\r\u001b[K     |██████████████████▍             | 1.6 MB 7.5 MB/s eta 0:00:01\r\u001b[K     |██████████████████▌             | 1.6 MB 7.5 MB/s eta 0:00:01\r\u001b[K     |██████████████████▋             | 1.6 MB 7.5 MB/s eta 0:00:01\r\u001b[K     |██████████████████▊             | 1.7 MB 7.5 MB/s eta 0:00:01\r\u001b[K     |██████████████████▉             | 1.7 MB 7.5 MB/s eta 0:00:01\r\u001b[K     |███████████████████             | 1.7 MB 7.5 MB/s eta 0:00:01\r\u001b[K     |███████████████████             | 1.7 MB 7.5 MB/s eta 0:00:01\r\u001b[K     |███████████████████▏            | 1.7 MB 7.5 MB/s eta 0:00:01\r\u001b[K     |███████████████████▎            | 1.7 MB 7.5 MB/s eta 0:00:01\r\u001b[K     |███████████████████▍            | 1.7 MB 7.5 MB/s eta 0:00:01\r\u001b[K     |███████████████████▌            | 1.7 MB 7.5 MB/s eta 0:00:01\r\u001b[K     |███████████████████▋            | 1.7 MB 7.5 MB/s eta 0:00:01\r\u001b[K     |███████████████████▊            | 1.8 MB 7.5 MB/s eta 0:00:01\r\u001b[K     |███████████████████▉            | 1.8 MB 7.5 MB/s eta 0:00:01\r\u001b[K     |████████████████████            | 1.8 MB 7.5 MB/s eta 0:00:01\r\u001b[K     |████████████████████            | 1.8 MB 7.5 MB/s eta 0:00:01\r\u001b[K     |████████████████████▏           | 1.8 MB 7.5 MB/s eta 0:00:01\r\u001b[K     |████████████████████▎           | 1.8 MB 7.5 MB/s eta 0:00:01\r\u001b[K     |████████████████████▍           | 1.8 MB 7.5 MB/s eta 0:00:01\r\u001b[K     |████████████████████▌           | 1.8 MB 7.5 MB/s eta 0:00:01\r\u001b[K     |████████████████████▋           | 1.8 MB 7.5 MB/s eta 0:00:01\r\u001b[K     |████████████████████▊           | 1.8 MB 7.5 MB/s eta 0:00:01\r\u001b[K     |████████████████████▉           | 1.9 MB 7.5 MB/s eta 0:00:01\r\u001b[K     |█████████████████████           | 1.9 MB 7.5 MB/s eta 0:00:01\r\u001b[K     |█████████████████████           | 1.9 MB 7.5 MB/s eta 0:00:01\r\u001b[K     |█████████████████████▎          | 1.9 MB 7.5 MB/s eta 0:00:01\r\u001b[K     |█████████████████████▍          | 1.9 MB 7.5 MB/s eta 0:00:01\r\u001b[K     |█████████████████████▌          | 1.9 MB 7.5 MB/s eta 0:00:01\r\u001b[K     |█████████████████████▋          | 1.9 MB 7.5 MB/s eta 0:00:01\r\u001b[K     |█████████████████████▊          | 1.9 MB 7.5 MB/s eta 0:00:01\r\u001b[K     |█████████████████████▉          | 1.9 MB 7.5 MB/s eta 0:00:01\r\u001b[K     |██████████████████████          | 1.9 MB 7.5 MB/s eta 0:00:01\r\u001b[K     |██████████████████████          | 2.0 MB 7.5 MB/s eta 0:00:01\r\u001b[K     |██████████████████████▏         | 2.0 MB 7.5 MB/s eta 0:00:01\r\u001b[K     |██████████████████████▎         | 2.0 MB 7.5 MB/s eta 0:00:01\r\u001b[K     |██████████████████████▍         | 2.0 MB 7.5 MB/s eta 0:00:01\r\u001b[K     |██████████████████████▌         | 2.0 MB 7.5 MB/s eta 0:00:01\r\u001b[K     |██████████████████████▋         | 2.0 MB 7.5 MB/s eta 0:00:01\r\u001b[K     |██████████████████████▊         | 2.0 MB 7.5 MB/s eta 0:00:01\r\u001b[K     |██████████████████████▉         | 2.0 MB 7.5 MB/s eta 0:00:01\r\u001b[K     |███████████████████████         | 2.0 MB 7.5 MB/s eta 0:00:01\r\u001b[K     |███████████████████████         | 2.0 MB 7.5 MB/s eta 0:00:01\r\u001b[K     |███████████████████████▏        | 2.1 MB 7.5 MB/s eta 0:00:01\r\u001b[K     |███████████████████████▎        | 2.1 MB 7.5 MB/s eta 0:00:01\r\u001b[K     |███████████████████████▍        | 2.1 MB 7.5 MB/s eta 0:00:01\r\u001b[K     |███████████████████████▌        | 2.1 MB 7.5 MB/s eta 0:00:01\r\u001b[K     |███████████████████████▋        | 2.1 MB 7.5 MB/s eta 0:00:01\r\u001b[K     |███████████████████████▊        | 2.1 MB 7.5 MB/s eta 0:00:01\r\u001b[K     |███████████████████████▉        | 2.1 MB 7.5 MB/s eta 0:00:01\r\u001b[K     |████████████████████████        | 2.1 MB 7.5 MB/s eta 0:00:01\r\u001b[K     |████████████████████████        | 2.1 MB 7.5 MB/s eta 0:00:01\r\u001b[K     |████████████████████████▎       | 2.2 MB 7.5 MB/s eta 0:00:01\r\u001b[K     |████████████████████████▍       | 2.2 MB 7.5 MB/s eta 0:00:01\r\u001b[K     |████████████████████████▌       | 2.2 MB 7.5 MB/s eta 0:00:01\r\u001b[K     |████████████████████████▋       | 2.2 MB 7.5 MB/s eta 0:00:01\r\u001b[K     |████████████████████████▊       | 2.2 MB 7.5 MB/s eta 0:00:01\r\u001b[K     |████████████████████████▉       | 2.2 MB 7.5 MB/s eta 0:00:01\r\u001b[K     |█████████████████████████       | 2.2 MB 7.5 MB/s eta 0:00:01\r\u001b[K     |█████████████████████████       | 2.2 MB 7.5 MB/s eta 0:00:01\r\u001b[K     |█████████████████████████▏      | 2.2 MB 7.5 MB/s eta 0:00:01\r\u001b[K     |█████████████████████████▎      | 2.2 MB 7.5 MB/s eta 0:00:01\r\u001b[K     |█████████████████████████▍      | 2.3 MB 7.5 MB/s eta 0:00:01\r\u001b[K     |█████████████████████████▌      | 2.3 MB 7.5 MB/s eta 0:00:01\r\u001b[K     |█████████████████████████▋      | 2.3 MB 7.5 MB/s eta 0:00:01\r\u001b[K     |█████████████████████████▊      | 2.3 MB 7.5 MB/s eta 0:00:01\r\u001b[K     |█████████████████████████▉      | 2.3 MB 7.5 MB/s eta 0:00:01\r\u001b[K     |██████████████████████████      | 2.3 MB 7.5 MB/s eta 0:00:01\r\u001b[K     |██████████████████████████      | 2.3 MB 7.5 MB/s eta 0:00:01\r\u001b[K     |██████████████████████████▏     | 2.3 MB 7.5 MB/s eta 0:00:01\r\u001b[K     |██████████████████████████▎     | 2.3 MB 7.5 MB/s eta 0:00:01\r\u001b[K     |██████████████████████████▍     | 2.3 MB 7.5 MB/s eta 0:00:01\r\u001b[K     |██████████████████████████▌     | 2.4 MB 7.5 MB/s eta 0:00:01\r\u001b[K     |██████████████████████████▋     | 2.4 MB 7.5 MB/s eta 0:00:01\r\u001b[K     |██████████████████████████▊     | 2.4 MB 7.5 MB/s eta 0:00:01\r\u001b[K     |██████████████████████████▉     | 2.4 MB 7.5 MB/s eta 0:00:01\r\u001b[K     |███████████████████████████     | 2.4 MB 7.5 MB/s eta 0:00:01\r\u001b[K     |███████████████████████████     | 2.4 MB 7.5 MB/s eta 0:00:01\r\u001b[K     |███████████████████████████▎    | 2.4 MB 7.5 MB/s eta 0:00:01\r\u001b[K     |███████████████████████████▍    | 2.4 MB 7.5 MB/s eta 0:00:01\r\u001b[K     |███████████████████████████▌    | 2.4 MB 7.5 MB/s eta 0:00:01\r\u001b[K     |███████████████████████████▋    | 2.4 MB 7.5 MB/s eta 0:00:01\r\u001b[K     |███████████████████████████▊    | 2.5 MB 7.5 MB/s eta 0:00:01\r\u001b[K     |███████████████████████████▉    | 2.5 MB 7.5 MB/s eta 0:00:01\r\u001b[K     |████████████████████████████    | 2.5 MB 7.5 MB/s eta 0:00:01\r\u001b[K     |████████████████████████████    | 2.5 MB 7.5 MB/s eta 0:00:01\r\u001b[K     |████████████████████████████▏   | 2.5 MB 7.5 MB/s eta 0:00:01\r\u001b[K     |████████████████████████████▎   | 2.5 MB 7.5 MB/s eta 0:00:01\r\u001b[K     |████████████████████████████▍   | 2.5 MB 7.5 MB/s eta 0:00:01\r\u001b[K     |████████████████████████████▌   | 2.5 MB 7.5 MB/s eta 0:00:01\r\u001b[K     |████████████████████████████▋   | 2.5 MB 7.5 MB/s eta 0:00:01\r\u001b[K     |████████████████████████████▊   | 2.5 MB 7.5 MB/s eta 0:00:01\r\u001b[K     |████████████████████████████▉   | 2.6 MB 7.5 MB/s eta 0:00:01\r\u001b[K     |█████████████████████████████   | 2.6 MB 7.5 MB/s eta 0:00:01\r\u001b[K     |█████████████████████████████   | 2.6 MB 7.5 MB/s eta 0:00:01\r\u001b[K     |█████████████████████████████▏  | 2.6 MB 7.5 MB/s eta 0:00:01\r\u001b[K     |█████████████████████████████▎  | 2.6 MB 7.5 MB/s eta 0:00:01\r\u001b[K     |█████████████████████████████▍  | 2.6 MB 7.5 MB/s eta 0:00:01\r\u001b[K     |█████████████████████████████▌  | 2.6 MB 7.5 MB/s eta 0:00:01\r\u001b[K     |█████████████████████████████▋  | 2.6 MB 7.5 MB/s eta 0:00:01\r\u001b[K     |█████████████████████████████▊  | 2.6 MB 7.5 MB/s eta 0:00:01\r\u001b[K     |█████████████████████████████▉  | 2.7 MB 7.5 MB/s eta 0:00:01\r\u001b[K     |██████████████████████████████  | 2.7 MB 7.5 MB/s eta 0:00:01\r\u001b[K     |██████████████████████████████  | 2.7 MB 7.5 MB/s eta 0:00:01\r\u001b[K     |██████████████████████████████▎ | 2.7 MB 7.5 MB/s eta 0:00:01\r\u001b[K     |██████████████████████████████▍ | 2.7 MB 7.5 MB/s eta 0:00:01\r\u001b[K     |██████████████████████████████▌ | 2.7 MB 7.5 MB/s eta 0:00:01\r\u001b[K     |██████████████████████████████▋ | 2.7 MB 7.5 MB/s eta 0:00:01\r\u001b[K     |██████████████████████████████▊ | 2.7 MB 7.5 MB/s eta 0:00:01\r\u001b[K     |██████████████████████████████▉ | 2.7 MB 7.5 MB/s eta 0:00:01\r\u001b[K     |███████████████████████████████ | 2.7 MB 7.5 MB/s eta 0:00:01\r\u001b[K     |███████████████████████████████ | 2.8 MB 7.5 MB/s eta 0:00:01\r\u001b[K     |███████████████████████████████▏| 2.8 MB 7.5 MB/s eta 0:00:01\r\u001b[K     |███████████████████████████████▎| 2.8 MB 7.5 MB/s eta 0:00:01\r\u001b[K     |███████████████████████████████▍| 2.8 MB 7.5 MB/s eta 0:00:01\r\u001b[K     |███████████████████████████████▌| 2.8 MB 7.5 MB/s eta 0:00:01\r\u001b[K     |███████████████████████████████▋| 2.8 MB 7.5 MB/s eta 0:00:01\r\u001b[K     |███████████████████████████████▊| 2.8 MB 7.5 MB/s eta 0:00:01\r\u001b[K     |███████████████████████████████▉| 2.8 MB 7.5 MB/s eta 0:00:01\r\u001b[K     |████████████████████████████████| 2.8 MB 7.5 MB/s eta 0:00:01"
     ]
    },
    {
     "name": "stdout",
     "output_type": "stream",
     "text": [
      "\r\u001b[K     |████████████████████████████████| 2.8 MB 7.5 MB/s \r\n"
     ]
    },
    {
     "name": "stdout",
     "output_type": "stream",
     "text": [
      "\u001b[?25hRequirement already satisfied: scipy>=0.15.0 in /home/user/.local/lib/python3.6/site-packages (from hep_ml) (1.5.1)\r\n",
      "Requirement already satisfied: numpy>=1.9 in /home/user/.local/lib/python3.6/site-packages (from hep_ml) (1.19.0)\r\n",
      "Requirement already satisfied: pandas>=0.14.0 in /home/user/.local/lib/python3.6/site-packages (from hep_ml) (1.0.5)\r\n"
     ]
    },
    {
     "name": "stdout",
     "output_type": "stream",
     "text": [
      "Requirement already satisfied: six in /home/user/.local/lib/python3.6/site-packages (from hep_ml) (1.15.0)\r\n",
      "Requirement already satisfied: threadpoolctl>=2.0.0 in /home/user/.local/lib/python3.6/site-packages (from scikit-learn>=0.19->hep_ml) (2.1.0)\r\n",
      "Requirement already satisfied: joblib>=0.11 in /home/user/.local/lib/python3.6/site-packages (from scikit-learn>=0.19->hep_ml) (0.16.0)\r\n",
      "Requirement already satisfied: pytz>=2017.2 in /home/user/.local/lib/python3.6/site-packages (from pandas>=0.14.0->hep_ml) (2020.1)\r\n",
      "Requirement already satisfied: python-dateutil>=2.6.1 in /home/user/.local/lib/python3.6/site-packages (from pandas>=0.14.0->hep_ml) (2.8.1)\r\n",
      "Building wheels for collected packages: theano\r\n"
     ]
    },
    {
     "name": "stdout",
     "output_type": "stream",
     "text": [
      "  Building wheel for theano (setup.py) ... \u001b[?25l-"
     ]
    },
    {
     "name": "stdout",
     "output_type": "stream",
     "text": [
      "\b \b\\"
     ]
    },
    {
     "name": "stdout",
     "output_type": "stream",
     "text": [
      "\b \b|"
     ]
    },
    {
     "name": "stdout",
     "output_type": "stream",
     "text": [
      "\b \b/"
     ]
    },
    {
     "name": "stdout",
     "output_type": "stream",
     "text": [
      "\b \b-"
     ]
    },
    {
     "name": "stdout",
     "output_type": "stream",
     "text": [
      "\b \b\\"
     ]
    },
    {
     "name": "stdout",
     "output_type": "stream",
     "text": [
      "\b \b|"
     ]
    },
    {
     "name": "stdout",
     "output_type": "stream",
     "text": [
      "\b \bdone\r\n"
     ]
    },
    {
     "name": "stdout",
     "output_type": "stream",
     "text": [
      "\u001b[?25h  Created wheel for theano: filename=Theano-1.0.4-py3-none-any.whl size=2667177 sha256=4c5e691f2d78c75167da5aeba19264407a424339a33570b7e5347589598b1947\r\n",
      "  Stored in directory: /home/user/.cache/pip/wheels/22/6b/c8/952faef457482ca081255c4a887f44f11490d1175743559aad\r\n",
      "Successfully built theano\r\n"
     ]
    },
    {
     "name": "stdout",
     "output_type": "stream",
     "text": [
      "Installing collected packages: theano, hep-ml\r\n"
     ]
    },
    {
     "name": "stdout",
     "output_type": "stream",
     "text": [
      "Successfully installed hep-ml-0.6.1 theano-1.0.4\r\n"
     ]
    }
   ],
   "source": [
    "!pip install hep_ml"
   ]
  },
  {
   "cell_type": "code",
   "execution_count": 9,
   "metadata": {
    "collapsed": false
   },
   "outputs": [
    {
     "name": "stdout",
     "output_type": "stream",
     "text": [
      "trainning with lr = 1\n"
     ]
    },
    {
     "name": "stdout",
     "output_type": "stream",
     "text": [
      "[0]\tvalidation_0-error:0.62881\n"
     ]
    },
    {
     "name": "stdout",
     "output_type": "stream",
     "text": [
      "Will train until validation_0-error hasn't improved in 10 rounds.\n"
     ]
    },
    {
     "name": "stdout",
     "output_type": "stream",
     "text": [
      "[1]\tvalidation_0-error:0.64547\n"
     ]
    },
    {
     "name": "stdout",
     "output_type": "stream",
     "text": [
      "[2]\tvalidation_0-error:0.62440\n"
     ]
    },
    {
     "name": "stdout",
     "output_type": "stream",
     "text": [
      "[3]\tvalidation_0-error:0.58718\n"
     ]
    },
    {
     "name": "stdout",
     "output_type": "stream",
     "text": [
      "[4]\tvalidation_0-error:0.58279\n"
     ]
    },
    {
     "name": "stdout",
     "output_type": "stream",
     "text": [
      "[5]\tvalidation_0-error:0.57887\n"
     ]
    },
    {
     "name": "stdout",
     "output_type": "stream",
     "text": [
      "[6]\tvalidation_0-error:0.57370\n"
     ]
    },
    {
     "name": "stdout",
     "output_type": "stream",
     "text": [
      "[7]\tvalidation_0-error:0.57086\n"
     ]
    },
    {
     "name": "stdout",
     "output_type": "stream",
     "text": [
      "[8]\tvalidation_0-error:0.56812\n"
     ]
    },
    {
     "name": "stdout",
     "output_type": "stream",
     "text": [
      "[9]\tvalidation_0-error:0.56696\n"
     ]
    },
    {
     "name": "stdout",
     "output_type": "stream",
     "text": [
      "[10]\tvalidation_0-error:0.56309\n"
     ]
    },
    {
     "name": "stdout",
     "output_type": "stream",
     "text": [
      "[11]\tvalidation_0-error:0.56235\n"
     ]
    },
    {
     "name": "stdout",
     "output_type": "stream",
     "text": [
      "[12]\tvalidation_0-error:0.55922\n"
     ]
    },
    {
     "name": "stdout",
     "output_type": "stream",
     "text": [
      "[13]\tvalidation_0-error:0.55767\n"
     ]
    },
    {
     "name": "stdout",
     "output_type": "stream",
     "text": [
      "[14]\tvalidation_0-error:0.55652\n"
     ]
    },
    {
     "name": "stdout",
     "output_type": "stream",
     "text": [
      "[15]\tvalidation_0-error:0.55429\n"
     ]
    },
    {
     "name": "stdout",
     "output_type": "stream",
     "text": [
      "[16]\tvalidation_0-error:0.55392\n"
     ]
    },
    {
     "name": "stdout",
     "output_type": "stream",
     "text": [
      "[17]\tvalidation_0-error:0.55160\n"
     ]
    },
    {
     "name": "stdout",
     "output_type": "stream",
     "text": [
      "[18]\tvalidation_0-error:0.55090\n"
     ]
    },
    {
     "name": "stdout",
     "output_type": "stream",
     "text": [
      "[19]\tvalidation_0-error:0.54993\n"
     ]
    },
    {
     "name": "stdout",
     "output_type": "stream",
     "text": [
      "[20]\tvalidation_0-error:0.54797\n"
     ]
    },
    {
     "name": "stdout",
     "output_type": "stream",
     "text": [
      "[21]\tvalidation_0-error:0.54532\n"
     ]
    },
    {
     "name": "stdout",
     "output_type": "stream",
     "text": [
      "[22]\tvalidation_0-error:0.54422\n"
     ]
    },
    {
     "name": "stdout",
     "output_type": "stream",
     "text": [
      "[23]\tvalidation_0-error:0.54299\n"
     ]
    },
    {
     "name": "stdout",
     "output_type": "stream",
     "text": [
      "[24]\tvalidation_0-error:0.54133\n"
     ]
    },
    {
     "name": "stdout",
     "output_type": "stream",
     "text": [
      "[25]\tvalidation_0-error:0.54026\n"
     ]
    },
    {
     "name": "stdout",
     "output_type": "stream",
     "text": [
      "[26]\tvalidation_0-error:0.53976\n"
     ]
    },
    {
     "name": "stdout",
     "output_type": "stream",
     "text": [
      "[27]\tvalidation_0-error:0.53870\n"
     ]
    },
    {
     "name": "stdout",
     "output_type": "stream",
     "text": [
      "[28]\tvalidation_0-error:0.53795\n"
     ]
    },
    {
     "name": "stdout",
     "output_type": "stream",
     "text": [
      "[29]\tvalidation_0-error:0.53741\n"
     ]
    },
    {
     "name": "stdout",
     "output_type": "stream",
     "text": [
      "[30]\tvalidation_0-error:0.53591\n"
     ]
    },
    {
     "name": "stdout",
     "output_type": "stream",
     "text": [
      "[31]\tvalidation_0-error:0.53556\n"
     ]
    },
    {
     "name": "stdout",
     "output_type": "stream",
     "text": [
      "[32]\tvalidation_0-error:0.53397\n"
     ]
    },
    {
     "name": "stdout",
     "output_type": "stream",
     "text": [
      "[33]\tvalidation_0-error:0.53369\n"
     ]
    },
    {
     "name": "stdout",
     "output_type": "stream",
     "text": [
      "[34]\tvalidation_0-error:0.53262\n"
     ]
    },
    {
     "name": "stdout",
     "output_type": "stream",
     "text": [
      "[35]\tvalidation_0-error:0.53149\n"
     ]
    },
    {
     "name": "stdout",
     "output_type": "stream",
     "text": [
      "[36]\tvalidation_0-error:0.53146\n"
     ]
    },
    {
     "name": "stdout",
     "output_type": "stream",
     "text": [
      "[37]\tvalidation_0-error:0.53104\n"
     ]
    },
    {
     "name": "stdout",
     "output_type": "stream",
     "text": [
      "[38]\tvalidation_0-error:0.52861\n"
     ]
    },
    {
     "name": "stdout",
     "output_type": "stream",
     "text": [
      "[39]\tvalidation_0-error:0.52900\n"
     ]
    },
    {
     "name": "stdout",
     "output_type": "stream",
     "text": [
      "[40]\tvalidation_0-error:0.52669\n"
     ]
    },
    {
     "name": "stdout",
     "output_type": "stream",
     "text": [
      "[41]\tvalidation_0-error:0.52743\n"
     ]
    },
    {
     "name": "stdout",
     "output_type": "stream",
     "text": [
      "[42]\tvalidation_0-error:0.52645\n"
     ]
    },
    {
     "name": "stdout",
     "output_type": "stream",
     "text": [
      "[43]\tvalidation_0-error:0.52672\n"
     ]
    },
    {
     "name": "stdout",
     "output_type": "stream",
     "text": [
      "[44]\tvalidation_0-error:0.52589\n"
     ]
    },
    {
     "name": "stdout",
     "output_type": "stream",
     "text": [
      "[45]\tvalidation_0-error:0.52327\n"
     ]
    },
    {
     "name": "stdout",
     "output_type": "stream",
     "text": [
      "[46]\tvalidation_0-error:0.52241\n"
     ]
    },
    {
     "name": "stdout",
     "output_type": "stream",
     "text": [
      "[47]\tvalidation_0-error:0.52115\n"
     ]
    },
    {
     "name": "stdout",
     "output_type": "stream",
     "text": [
      "[48]\tvalidation_0-error:0.52086\n"
     ]
    },
    {
     "name": "stdout",
     "output_type": "stream",
     "text": [
      "[49]\tvalidation_0-error:0.52019\n"
     ]
    },
    {
     "name": "stdout",
     "output_type": "stream",
     "text": [
      "[50]\tvalidation_0-error:0.51961\n"
     ]
    },
    {
     "name": "stdout",
     "output_type": "stream",
     "text": [
      "[51]\tvalidation_0-error:0.51910\n"
     ]
    },
    {
     "name": "stdout",
     "output_type": "stream",
     "text": [
      "[52]\tvalidation_0-error:0.51797\n"
     ]
    },
    {
     "name": "stdout",
     "output_type": "stream",
     "text": [
      "[53]\tvalidation_0-error:0.51749\n"
     ]
    },
    {
     "name": "stdout",
     "output_type": "stream",
     "text": [
      "[54]\tvalidation_0-error:0.51602\n"
     ]
    },
    {
     "name": "stdout",
     "output_type": "stream",
     "text": [
      "[55]\tvalidation_0-error:0.51516\n"
     ]
    },
    {
     "name": "stdout",
     "output_type": "stream",
     "text": [
      "[56]\tvalidation_0-error:0.51408\n"
     ]
    },
    {
     "name": "stdout",
     "output_type": "stream",
     "text": [
      "[57]\tvalidation_0-error:0.51351\n"
     ]
    },
    {
     "name": "stdout",
     "output_type": "stream",
     "text": [
      "[58]\tvalidation_0-error:0.51151\n"
     ]
    },
    {
     "name": "stdout",
     "output_type": "stream",
     "text": [
      "[59]\tvalidation_0-error:0.51047\n"
     ]
    },
    {
     "name": "stdout",
     "output_type": "stream",
     "text": [
      "[60]\tvalidation_0-error:0.51020\n"
     ]
    },
    {
     "name": "stdout",
     "output_type": "stream",
     "text": [
      "[61]\tvalidation_0-error:0.50850\n"
     ]
    },
    {
     "name": "stdout",
     "output_type": "stream",
     "text": [
      "[62]\tvalidation_0-error:0.50838\n"
     ]
    },
    {
     "name": "stdout",
     "output_type": "stream",
     "text": [
      "[63]\tvalidation_0-error:0.50808\n"
     ]
    },
    {
     "name": "stdout",
     "output_type": "stream",
     "text": [
      "[64]\tvalidation_0-error:0.50739\n"
     ]
    },
    {
     "name": "stdout",
     "output_type": "stream",
     "text": [
      "[65]\tvalidation_0-error:0.50709\n"
     ]
    },
    {
     "name": "stdout",
     "output_type": "stream",
     "text": [
      "[66]\tvalidation_0-error:0.50636\n"
     ]
    },
    {
     "name": "stdout",
     "output_type": "stream",
     "text": [
      "[67]\tvalidation_0-error:0.50579\n"
     ]
    },
    {
     "name": "stdout",
     "output_type": "stream",
     "text": [
      "[68]\tvalidation_0-error:0.50485\n"
     ]
    },
    {
     "name": "stdout",
     "output_type": "stream",
     "text": [
      "[69]\tvalidation_0-error:0.50459\n"
     ]
    },
    {
     "name": "stdout",
     "output_type": "stream",
     "text": [
      "[70]\tvalidation_0-error:0.50438\n"
     ]
    },
    {
     "name": "stdout",
     "output_type": "stream",
     "text": [
      "[71]\tvalidation_0-error:0.50275\n"
     ]
    },
    {
     "name": "stdout",
     "output_type": "stream",
     "text": [
      "[72]\tvalidation_0-error:0.50285\n"
     ]
    },
    {
     "name": "stdout",
     "output_type": "stream",
     "text": [
      "[73]\tvalidation_0-error:0.50259\n"
     ]
    },
    {
     "name": "stdout",
     "output_type": "stream",
     "text": [
      "[74]\tvalidation_0-error:0.50216\n"
     ]
    },
    {
     "name": "stdout",
     "output_type": "stream",
     "text": [
      "[75]\tvalidation_0-error:0.50164\n"
     ]
    },
    {
     "name": "stdout",
     "output_type": "stream",
     "text": [
      "[76]\tvalidation_0-error:0.50134\n"
     ]
    },
    {
     "name": "stdout",
     "output_type": "stream",
     "text": [
      "[77]\tvalidation_0-error:0.50020\n"
     ]
    },
    {
     "name": "stdout",
     "output_type": "stream",
     "text": [
      "[78]\tvalidation_0-error:0.49980\n"
     ]
    },
    {
     "name": "stdout",
     "output_type": "stream",
     "text": [
      "[79]\tvalidation_0-error:0.49938\n"
     ]
    },
    {
     "name": "stdout",
     "output_type": "stream",
     "text": [
      "[80]\tvalidation_0-error:0.49935\n"
     ]
    },
    {
     "name": "stdout",
     "output_type": "stream",
     "text": [
      "[81]\tvalidation_0-error:0.49845\n"
     ]
    },
    {
     "name": "stdout",
     "output_type": "stream",
     "text": [
      "[82]\tvalidation_0-error:0.49760\n"
     ]
    },
    {
     "name": "stdout",
     "output_type": "stream",
     "text": [
      "[83]\tvalidation_0-error:0.49672\n"
     ]
    },
    {
     "name": "stdout",
     "output_type": "stream",
     "text": [
      "[84]\tvalidation_0-error:0.49628\n"
     ]
    },
    {
     "name": "stdout",
     "output_type": "stream",
     "text": [
      "[85]\tvalidation_0-error:0.49518\n"
     ]
    },
    {
     "name": "stdout",
     "output_type": "stream",
     "text": [
      "[86]\tvalidation_0-error:0.49404\n"
     ]
    },
    {
     "name": "stdout",
     "output_type": "stream",
     "text": [
      "[87]\tvalidation_0-error:0.49402\n"
     ]
    },
    {
     "name": "stdout",
     "output_type": "stream",
     "text": [
      "[88]\tvalidation_0-error:0.49331\n"
     ]
    },
    {
     "name": "stdout",
     "output_type": "stream",
     "text": [
      "[89]\tvalidation_0-error:0.49247\n"
     ]
    },
    {
     "name": "stdout",
     "output_type": "stream",
     "text": [
      "[90]\tvalidation_0-error:0.49159\n"
     ]
    },
    {
     "name": "stdout",
     "output_type": "stream",
     "text": [
      "[91]\tvalidation_0-error:0.49138\n"
     ]
    },
    {
     "name": "stdout",
     "output_type": "stream",
     "text": [
      "[92]\tvalidation_0-error:0.49108\n"
     ]
    },
    {
     "name": "stdout",
     "output_type": "stream",
     "text": [
      "[93]\tvalidation_0-error:0.49039\n"
     ]
    },
    {
     "name": "stdout",
     "output_type": "stream",
     "text": [
      "[94]\tvalidation_0-error:0.48966\n"
     ]
    },
    {
     "name": "stdout",
     "output_type": "stream",
     "text": [
      "[95]\tvalidation_0-error:0.48972\n"
     ]
    },
    {
     "name": "stdout",
     "output_type": "stream",
     "text": [
      "[96]\tvalidation_0-error:0.48955\n"
     ]
    },
    {
     "name": "stdout",
     "output_type": "stream",
     "text": [
      "[97]\tvalidation_0-error:0.48799\n"
     ]
    },
    {
     "name": "stdout",
     "output_type": "stream",
     "text": [
      "[98]\tvalidation_0-error:0.48557\n"
     ]
    },
    {
     "name": "stdout",
     "output_type": "stream",
     "text": [
      "[99]\tvalidation_0-error:0.48529\n"
     ]
    },
    {
     "name": "stdout",
     "output_type": "stream",
     "text": [
      "NN: 1 , Test accuracy: 0.5842696122266624\n",
      "trainning with lr = 0.5\n"
     ]
    },
    {
     "ename": "KeyboardInterrupt",
     "evalue": "",
     "output_type": "error",
     "traceback": [
      "\u001b[0;31m---------------------------------------------------------------------------\u001b[0m",
      "\u001b[0;31mKeyboardInterrupt\u001b[0m                         Traceback (most recent call last)",
      "\u001b[0;32m<ipython-input-9-b2c9dd54abff>\u001b[0m in \u001b[0;36m<module>\u001b[0;34m()\u001b[0m\n\u001b[1;32m     18\u001b[0m                   \u001b[0mverbose\u001b[0m\u001b[0;34m=\u001b[0m\u001b[0;32mTrue\u001b[0m\u001b[0;34m,\u001b[0m\u001b[0;34m\u001b[0m\u001b[0;34m\u001b[0m\u001b[0m\n\u001b[1;32m     19\u001b[0m                   \u001b[0mearly_stopping_rounds\u001b[0m\u001b[0;34m=\u001b[0m\u001b[0;36m10\u001b[0m\u001b[0;34m,\u001b[0m\u001b[0;34m\u001b[0m\u001b[0;34m\u001b[0m\u001b[0m\n\u001b[0;32m---> 20\u001b[0;31m                   \u001b[0meval_set\u001b[0m \u001b[0;34m=\u001b[0m \u001b[0meval_set\u001b[0m\u001b[0;34m,\u001b[0m\u001b[0;34m\u001b[0m\u001b[0;34m\u001b[0m\u001b[0m\n\u001b[0m\u001b[1;32m     21\u001b[0m              )\n\u001b[1;32m     22\u001b[0m \u001b[0;34m\u001b[0m\u001b[0m\n",
      "\u001b[0;32m/usr/local/lib/python3.6/dist-packages/xgboost/sklearn.py\u001b[0m in \u001b[0;36mfit\u001b[0;34m(self, X, y, sample_weight, base_margin, eval_set, eval_metric, early_stopping_rounds, verbose, xgb_model, sample_weight_eval_set, callbacks)\u001b[0m\n\u001b[1;32m    829\u001b[0m                               \u001b[0mevals_result\u001b[0m\u001b[0;34m=\u001b[0m\u001b[0mevals_result\u001b[0m\u001b[0;34m,\u001b[0m \u001b[0mobj\u001b[0m\u001b[0;34m=\u001b[0m\u001b[0mobj\u001b[0m\u001b[0;34m,\u001b[0m \u001b[0mfeval\u001b[0m\u001b[0;34m=\u001b[0m\u001b[0mfeval\u001b[0m\u001b[0;34m,\u001b[0m\u001b[0;34m\u001b[0m\u001b[0;34m\u001b[0m\u001b[0m\n\u001b[1;32m    830\u001b[0m                               \u001b[0mverbose_eval\u001b[0m\u001b[0;34m=\u001b[0m\u001b[0mverbose\u001b[0m\u001b[0;34m,\u001b[0m \u001b[0mxgb_model\u001b[0m\u001b[0;34m=\u001b[0m\u001b[0mxgb_model\u001b[0m\u001b[0;34m,\u001b[0m\u001b[0;34m\u001b[0m\u001b[0;34m\u001b[0m\u001b[0m\n\u001b[0;32m--> 831\u001b[0;31m                               callbacks=callbacks)\n\u001b[0m\u001b[1;32m    832\u001b[0m \u001b[0;34m\u001b[0m\u001b[0m\n\u001b[1;32m    833\u001b[0m         \u001b[0mself\u001b[0m\u001b[0;34m.\u001b[0m\u001b[0mobjective\u001b[0m \u001b[0;34m=\u001b[0m \u001b[0mxgb_options\u001b[0m\u001b[0;34m[\u001b[0m\u001b[0;34m\"objective\"\u001b[0m\u001b[0;34m]\u001b[0m\u001b[0;34m\u001b[0m\u001b[0;34m\u001b[0m\u001b[0m\n",
      "\u001b[0;32m/usr/local/lib/python3.6/dist-packages/xgboost/training.py\u001b[0m in \u001b[0;36mtrain\u001b[0;34m(params, dtrain, num_boost_round, evals, obj, feval, maximize, early_stopping_rounds, evals_result, verbose_eval, xgb_model, callbacks)\u001b[0m\n\u001b[1;32m    210\u001b[0m                            \u001b[0mevals\u001b[0m\u001b[0;34m=\u001b[0m\u001b[0mevals\u001b[0m\u001b[0;34m,\u001b[0m\u001b[0;34m\u001b[0m\u001b[0;34m\u001b[0m\u001b[0m\n\u001b[1;32m    211\u001b[0m                            \u001b[0mobj\u001b[0m\u001b[0;34m=\u001b[0m\u001b[0mobj\u001b[0m\u001b[0;34m,\u001b[0m \u001b[0mfeval\u001b[0m\u001b[0;34m=\u001b[0m\u001b[0mfeval\u001b[0m\u001b[0;34m,\u001b[0m\u001b[0;34m\u001b[0m\u001b[0;34m\u001b[0m\u001b[0m\n\u001b[0;32m--> 212\u001b[0;31m                            xgb_model=xgb_model, callbacks=callbacks)\n\u001b[0m\u001b[1;32m    213\u001b[0m \u001b[0;34m\u001b[0m\u001b[0m\n\u001b[1;32m    214\u001b[0m \u001b[0;34m\u001b[0m\u001b[0m\n",
      "\u001b[0;32m/usr/local/lib/python3.6/dist-packages/xgboost/training.py\u001b[0m in \u001b[0;36m_train_internal\u001b[0;34m(params, dtrain, num_boost_round, evals, obj, feval, xgb_model, callbacks)\u001b[0m\n\u001b[1;32m     73\u001b[0m         \u001b[0;31m# Skip the first update if it is a recovery step.\u001b[0m\u001b[0;34m\u001b[0m\u001b[0;34m\u001b[0m\u001b[0;34m\u001b[0m\u001b[0m\n\u001b[1;32m     74\u001b[0m         \u001b[0;32mif\u001b[0m \u001b[0mversion\u001b[0m \u001b[0;34m%\u001b[0m \u001b[0;36m2\u001b[0m \u001b[0;34m==\u001b[0m \u001b[0;36m0\u001b[0m\u001b[0;34m:\u001b[0m\u001b[0;34m\u001b[0m\u001b[0;34m\u001b[0m\u001b[0m\n\u001b[0;32m---> 75\u001b[0;31m             \u001b[0mbst\u001b[0m\u001b[0;34m.\u001b[0m\u001b[0mupdate\u001b[0m\u001b[0;34m(\u001b[0m\u001b[0mdtrain\u001b[0m\u001b[0;34m,\u001b[0m \u001b[0mi\u001b[0m\u001b[0;34m,\u001b[0m \u001b[0mobj\u001b[0m\u001b[0;34m)\u001b[0m\u001b[0;34m\u001b[0m\u001b[0;34m\u001b[0m\u001b[0m\n\u001b[0m\u001b[1;32m     76\u001b[0m             \u001b[0mbst\u001b[0m\u001b[0;34m.\u001b[0m\u001b[0msave_rabit_checkpoint\u001b[0m\u001b[0;34m(\u001b[0m\u001b[0;34m)\u001b[0m\u001b[0;34m\u001b[0m\u001b[0;34m\u001b[0m\u001b[0m\n\u001b[1;32m     77\u001b[0m             \u001b[0mversion\u001b[0m \u001b[0;34m+=\u001b[0m \u001b[0;36m1\u001b[0m\u001b[0;34m\u001b[0m\u001b[0;34m\u001b[0m\u001b[0m\n",
      "\u001b[0;32m/usr/local/lib/python3.6/dist-packages/xgboost/core.py\u001b[0m in \u001b[0;36mupdate\u001b[0;34m(self, dtrain, iteration, fobj)\u001b[0m\n\u001b[1;32m   1159\u001b[0m             _check_call(_LIB.XGBoosterUpdateOneIter(self.handle,\n\u001b[1;32m   1160\u001b[0m                                                     \u001b[0mctypes\u001b[0m\u001b[0;34m.\u001b[0m\u001b[0mc_int\u001b[0m\u001b[0;34m(\u001b[0m\u001b[0miteration\u001b[0m\u001b[0;34m)\u001b[0m\u001b[0;34m,\u001b[0m\u001b[0;34m\u001b[0m\u001b[0;34m\u001b[0m\u001b[0m\n\u001b[0;32m-> 1161\u001b[0;31m                                                     dtrain.handle))\n\u001b[0m\u001b[1;32m   1162\u001b[0m         \u001b[0;32melse\u001b[0m\u001b[0;34m:\u001b[0m\u001b[0;34m\u001b[0m\u001b[0;34m\u001b[0m\u001b[0m\n\u001b[1;32m   1163\u001b[0m             \u001b[0mpred\u001b[0m \u001b[0;34m=\u001b[0m \u001b[0mself\u001b[0m\u001b[0;34m.\u001b[0m\u001b[0mpredict\u001b[0m\u001b[0;34m(\u001b[0m\u001b[0mdtrain\u001b[0m\u001b[0;34m,\u001b[0m \u001b[0moutput_margin\u001b[0m\u001b[0;34m=\u001b[0m\u001b[0;32mTrue\u001b[0m\u001b[0;34m,\u001b[0m \u001b[0mtraining\u001b[0m\u001b[0;34m=\u001b[0m\u001b[0;32mTrue\u001b[0m\u001b[0;34m)\u001b[0m\u001b[0;34m\u001b[0m\u001b[0;34m\u001b[0m\u001b[0m\n",
      "\u001b[0;31mKeyboardInterrupt\u001b[0m: "
     ]
    }
   ],
   "source": [
    "from sklearn.metrics import accuracy_score\n",
    "\n",
    "\n",
    "# Trainning part\n",
    "\n",
    "score_best = 0\n",
    "model_best = None\n",
    "lr_best    = None\n",
    "eval_set = [(validation.loc[:, train_cols].values, validation.label.values, validation.weight.values)]\n",
    "lrs = [1, 0.5, 0.1, 0.08, 0.05]\n",
    "\n",
    "for lr in lrs:\n",
    "    print(\"trainning with lr = {}\".format(lr))\n",
    "    model = xgboost.XGBClassifier(n_estimators = n_trees, nthread=-1, learning_rate = lr)\n",
    "    model.fit(train_part.loc[:, train_cols].values,\n",
    "              train_part.label.values,\n",
    "              sample_weight=train_part.weight.values,\n",
    "                  verbose=True,\n",
    "                  early_stopping_rounds=10,\n",
    "                  eval_set = eval_set,\n",
    "             )\n",
    "\n",
    "    validation_predictions = model.predict_proba(validation.loc[:, train_cols].values)[:, 1]\n",
    "    model_score = scoring.rejection90(validation.label.values, validation_predictions, sample_weight=validation.weight.values)\n",
    "    print(\"NN: {} , Test accuracy: {}\".format(lr, model_score))\n",
    "    if model_score > score_best :\n",
    "        model_best = model\n",
    "        score_best = model_score\n",
    "        lr_best    = lr\n",
    "\n",
    "\n",
    "\n"
   ]
  },
  {
   "cell_type": "code",
   "execution_count": 0,
   "metadata": {
    "collapsed": false
   },
   "outputs": [
   ],
   "source": [
    "print(score)"
   ]
  },
  {
   "cell_type": "code",
   "execution_count": 0,
   "metadata": {
    "collapsed": false
   },
   "outputs": [
   ],
   "source": [
    "validation_predictions = model.predict_proba(validation.loc[:, utils.SIMPLE_FEATURE_COLUMNS].values)[:, 1]\n",
    "model_score = scoring.rejection90(validation.label.values, validation_predictions, sample_weight=validation.weight.values)"
   ]
  },
  {
   "cell_type": "code",
   "execution_count": 0,
   "metadata": {
    "collapsed": false
   },
   "outputs": [
   ],
   "source": [
    "print(model_score)"
   ]
  },
  {
   "cell_type": "code",
   "execution_count": 0,
   "metadata": {
    "collapsed": false
   },
   "outputs": [
   ],
   "source": [
   ]
  },
  {
   "cell_type": "markdown",
   "metadata": {
    "collapsed": false
   },
   "source": [
    "### Step 4 Predict on the whole test set and prepare submission  \n"
   ]
  },
  {
   "cell_type": "code",
   "execution_count": 0,
   "metadata": {
    "collapsed": false
   },
   "outputs": [
   ],
   "source": [
    "test = pd.read_csv(os.path.join(DATA_PATH, \"test-features.csv.gz\"), index_col=\"id\", usecols=utils.SIMPLE_FEATURE_COLUMNS + [\"id\"])\n",
    "\n",
    "predictions = model.predict_proba(test.loc[:, utils.SIMPLE_FEATURE_COLUMNS].values)[:, 1]\n",
    "model_score = scoring.rejection90(test.label.values, predictions, sample_weight=validation.weight.values)\n",
    "\n",
    "compression_opts = dict(method='zip',\n",
    "                        archive_name='submission.csv')  \n",
    "pd.DataFrame(data={\"prediction\": predictions}, index=test.index).to_csv(\n",
    "    \"submission.zip\", index_label=utils.ID_COLUMN, compression=compression_opts)"
   ]
  }
 ],
 "metadata": {
  "kernelspec": {
   "display_name": "Python 3",
   "language": "python",
   "name": "python3"
  },
  "language_info": {
   "codemirror_mode": {
    "name": "ipython",
    "version": 3
   },
   "file_extension": ".py",
   "mimetype": "text/x-python",
   "name": "python",
   "nbconvert_exporter": "python",
   "pygments_lexer": "ipython3",
   "version": "3.6.10"
  }
 },
 "nbformat": 4,
 "nbformat_minor": 4
}